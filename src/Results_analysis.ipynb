{
 "cells": [
  {
   "cell_type": "code",
   "execution_count": 4,
   "id": "a9e93717",
   "metadata": {},
   "outputs": [],
   "source": [
    "import numpy as np"
   ]
  },
  {
   "cell_type": "code",
   "execution_count": 3,
   "id": "a37886f2",
   "metadata": {},
   "outputs": [
    {
     "name": "stdout",
     "output_type": "stream",
     "text": [
      "5 captions 0 images at recall 1: 21.1%\n",
      "5 captions 0 images at recall 5: 32.1%\n",
      "5 captions 0 images at recall 10: 41.7%\n",
      "5 captions 4 images at recall 1: 16.6%\n",
      "5 captions 4 images at recall 5: 24.6%\n",
      "5 captions 4 images at recall 10: 34.0%\n",
      "1 captions 0 images at recall 1: 15.3%\n",
      "1 captions 0 images at recall 5: 23.7%\n",
      "1 captions 0 images at recall 10: 30.4%\n"
     ]
    }
   ],
   "source": [
    "caption = [5,1]\n",
    "image = [0, 4]\n",
    "recall = [1,5,10]\n",
    "for c in caption:\n",
    "    for i in image:\n",
    "        for r in recall:\n",
    "            try:\n",
    "                path = f\"/Users/wangyangwu/Downloads/DL2/Results/EX1_R{r}_C{c}_I{i}.npz\"\n",
    "                result = np.load(path)\n",
    "                ids = result['story_ids']\n",
    "                images = result['images_output']\n",
    "                targets = result['images_target']\n",
    "                count = 0\n",
    "                for j, img in enumerate(images):\n",
    "                    matches = [int(np.array_equal(k, targets[j])) for k in img]\n",
    "                    count += int(sum(matches)>0)\n",
    "                print(f\"{c} captions {i} images at recall {r}: {count*100/1000}%\")\n",
    "            except:\n",
    "                break"
   ]
  },
  {
   "cell_type": "code",
   "execution_count": null,
   "id": "426144b8",
   "metadata": {},
   "outputs": [],
   "source": []
  }
 ],
 "metadata": {
  "kernelspec": {
   "display_name": "Python 3 (ipykernel)",
   "language": "python",
   "name": "python3"
  },
  "language_info": {
   "codemirror_mode": {
    "name": "ipython",
    "version": 3
   },
   "file_extension": ".py",
   "mimetype": "text/x-python",
   "name": "python",
   "nbconvert_exporter": "python",
   "pygments_lexer": "ipython3",
   "version": "3.9.0"
  }
 },
 "nbformat": 4,
 "nbformat_minor": 5
}
