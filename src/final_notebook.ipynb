{
 "cells": [
  {
   "cell_type": "markdown",
   "id": "5dd69609",
   "metadata": {},
   "source": [
    "## Reproducing Experiments"
   ]
  },
  {
   "cell_type": "code",
   "execution_count": 4,
   "id": "26d2ddb9",
   "metadata": {},
   "outputs": [],
   "source": [
    "import numpy as np\n",
    "import copy\n",
    "import torch\n",
    "import random\n",
    "import json\n",
    "from transformers import logging\n",
    "import itertools\n",
    "logging.set_verbosity_error()\n",
    "\n",
    "import torch.nn as nn\n",
    "from torch.utils.data import DataLoader\n",
    "\n",
    "from PIL import Image\n",
    "\n",
    "import sys\n",
    "sys.path.append('/home/lcur1629/fromage') ##change this to your folder where you put the whole project\n",
    "from fromage.models import FromageModel\n",
    "from fromage import utils\n",
    "from PIL import Image, UnidentifiedImageError"
   ]
  },
  {
   "cell_type": "markdown",
   "id": "14403cac",
   "metadata": {},
   "source": [
    "First, we will load the model and the embedding matrix."
   ]
  },
  {
   "cell_type": "code",
   "execution_count": 6,
   "id": "e09ea467",
   "metadata": {},
   "outputs": [
    {
     "name": "stdout",
     "output_type": "stream",
     "text": [
      "Using HuggingFace AutoFeatureExtractor for openai/clip-vit-large-patch14.\n"
     ]
    },
    {
     "name": "stderr",
     "output_type": "stream",
     "text": [
      "/home/lcur1629/.conda/envs/dl2/lib/python3.11/site-packages/transformers/models/clip/feature_extraction_clip.py:28: FutureWarning: The class CLIPFeatureExtractor is deprecated and will be removed in version 5 of Transformers. Please use CLIPImageProcessor instead.\n",
      "  warnings.warn(\n"
     ]
    },
    {
     "ename": "AttributeError",
     "evalue": "type object 'Module' has no attribute 'cls_token_id'",
     "output_type": "error",
     "traceback": [
      "\u001b[0;31m---------------------------------------------------------------------------\u001b[0m",
      "\u001b[0;31mAttributeError\u001b[0m                            Traceback (most recent call last)",
      "Cell \u001b[0;32mIn[6], line 3\u001b[0m\n\u001b[1;32m      1\u001b[0m model_dir \u001b[38;5;241m=\u001b[39m \u001b[38;5;124m'\u001b[39m\u001b[38;5;124m./fromage_model/\u001b[39m\u001b[38;5;124m'\u001b[39m\n\u001b[1;32m      2\u001b[0m \u001b[38;5;66;03m#model = models.load_fromage(model_dir)\u001b[39;00m\n\u001b[0;32m----> 3\u001b[0m model \u001b[38;5;241m=\u001b[39m \u001b[43mFromageModel\u001b[49m\u001b[43m(\u001b[49m\u001b[43mnn\u001b[49m\u001b[38;5;241;43m.\u001b[39;49m\u001b[43mModule\u001b[49m\u001b[43m)\u001b[49m\n\u001b[1;32m      4\u001b[0m model \u001b[38;5;241m=\u001b[39m nn\u001b[38;5;241m.\u001b[39mDataParallel(model)\n",
      "File \u001b[0;32m~/DL2_project/fromage/models.py:44\u001b[0m, in \u001b[0;36mFromageModel.__init__\u001b[0;34m(self, tokenizer, args)\u001b[0m\n\u001b[1;32m     42\u001b[0m \u001b[38;5;28mself\u001b[39m\u001b[38;5;241m.\u001b[39mtokenizer \u001b[38;5;241m=\u001b[39m tokenizer\n\u001b[1;32m     43\u001b[0m \u001b[38;5;28mself\u001b[39m\u001b[38;5;241m.\u001b[39mfeature_extractor \u001b[38;5;241m=\u001b[39m utils\u001b[38;5;241m.\u001b[39mget_feature_extractor_for_model(args\u001b[38;5;241m.\u001b[39mvisual_encoder, train\u001b[38;5;241m=\u001b[39m\u001b[38;5;28;01mFalse\u001b[39;00m)\n\u001b[0;32m---> 44\u001b[0m \u001b[38;5;28mself\u001b[39m\u001b[38;5;241m.\u001b[39mimage_token \u001b[38;5;241m=\u001b[39m \u001b[38;5;28;43mself\u001b[39;49m\u001b[38;5;241;43m.\u001b[39;49m\u001b[43mtokenizer\u001b[49m\u001b[38;5;241;43m.\u001b[39;49m\u001b[43mcls_token_id\u001b[49m\n\u001b[1;32m     45\u001b[0m \u001b[38;5;28;01massert\u001b[39;00m args\u001b[38;5;241m.\u001b[39mtext_emb_layers \u001b[38;5;241m!=\u001b[39m \u001b[38;5;28mset\u001b[39m(args\u001b[38;5;241m.\u001b[39mtext_emb_layers), \u001b[38;5;124m'\u001b[39m\u001b[38;5;124mtext_emb_layers not unique\u001b[39m\u001b[38;5;124m'\u001b[39m\n\u001b[1;32m     46\u001b[0m \u001b[38;5;28mself\u001b[39m\u001b[38;5;241m.\u001b[39margs \u001b[38;5;241m=\u001b[39m args\n",
      "\u001b[0;31mAttributeError\u001b[0m: type object 'Module' has no attribute 'cls_token_id'"
     ]
    }
   ],
   "source": [
    "model_dir = './fromage_model/'\n",
    "#model = models.load_fromage(model_dir)\n",
    "model = FromageModel(nn.Module)\n",
    "model = nn.DataParallel(model)"
   ]
  },
  {
   "cell_type": "markdown",
   "id": "5b6d5e3b",
   "metadata": {},
   "source": [
    "### Experiment 1: Inputs with 1 Caption"
   ]
  },
  {
   "cell_type": "code",
   "execution_count": null,
   "id": "c0e0313c",
   "metadata": {},
   "outputs": [],
   "source": [
    " "
   ]
  }
 ],
 "metadata": {
  "kernelspec": {
   "display_name": "Python 3 (ipykernel)",
   "language": "python",
   "name": "python3"
  },
  "language_info": {
   "codemirror_mode": {
    "name": "ipython",
    "version": 3
   },
   "file_extension": ".py",
   "mimetype": "text/x-python",
   "name": "python",
   "nbconvert_exporter": "python",
   "pygments_lexer": "ipython3",
   "version": "3.11.3"
  }
 },
 "nbformat": 4,
 "nbformat_minor": 5
}
