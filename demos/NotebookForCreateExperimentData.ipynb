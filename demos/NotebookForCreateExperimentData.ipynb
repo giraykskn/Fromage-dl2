{
 "cells": [
  {
   "cell_type": "code",
   "execution_count": 1,
   "id": "074aee46",
   "metadata": {},
   "outputs": [],
   "source": [
    "import json\n",
    "from PIL import Image, ImageDraw, ImageFont, ImageOps\n",
    "import requests\n",
    "import os\n",
    "from io import BytesIO\n",
    "import requests\n",
    "from IPython.display import display"
   ]
  },
  {
   "cell_type": "code",
   "execution_count": 3,
   "id": "06c13166",
   "metadata": {},
   "outputs": [],
   "source": [
    "## load dataset\n",
    "with open('sis/test.story-in-sequence.json', 'r') as f:\n",
    "    data = json.load(f)"
   ]
  },
  {
   "cell_type": "code",
   "execution_count": 4,
   "id": "3edaf8fd",
   "metadata": {},
   "outputs": [],
   "source": [
    "## this contains information on all images which can be used to retrived images from URL\n",
    "images = data['images'] \n",
    "## this contains information on all story seequence\n",
    "stories = data['annotations']"
   ]
  },
  {
   "cell_type": "code",
   "execution_count": 6,
   "id": "52dce13f",
   "metadata": {},
   "outputs": [],
   "source": [
    "## get story ids and corresponding album ids\n",
    "story_ids = list(set([story[0]['story_id'] for story in stories]))\n",
    "album_ids = list(set([story[0]['album_id'] for story in stories]))\n",
    "story_album_dict = {i[0]['story_id']:i[0]['album_id'] for i in stories}"
   ]
  },
  {
   "cell_type": "code",
   "execution_count": 7,
   "id": "f7ca967a",
   "metadata": {},
   "outputs": [],
   "source": [
    "## Funtion to retrieve story with a story id\n",
    "def get_story_images(story_id:str, images:list, stories:list, story_album_dict:dict):\n",
    "    story = [s for s in stories if s[0]['story_id']==story_id]\n",
    "    story_images = [i for i in images if i['album_id']==story_album_dict[story_id]]\n",
    "#     image_ids = [s['photo_flickr_id'] for s in story]\n",
    "#     image_urls = [i['url_o'] for i in images if i['id'] in image_ids]\n",
    "    story_list = [(s[0],img) for s in story for img in story_images if img['id']==s[0]['photo_flickr_id']]\n",
    "    return story_list"
   ]
  },
  {
   "cell_type": "code",
   "execution_count": 9,
   "id": "a1a2ddee",
   "metadata": {},
   "outputs": [],
   "source": [
    "## Function to retrieve all stories and save the results in JSON file\n",
    "def get_all_stories(story_ids:list,images:list, stories:list, story_album_dict:dict):\n",
    "    stories = [get_story_images(story_id, images, stories, story_album_dict) for story_id in story_ids]\n",
    "    with open('sis/VISA_expriment.json', 'w') as f:\n",
    "        json.dump(stories, f)"
   ]
  },
  {
   "cell_type": "code",
   "execution_count": 10,
   "id": "2d37646c",
   "metadata": {},
   "outputs": [],
   "source": [
    "## Create data\n",
    "get_all_stories(story_ids, images, stories,story_album_dict)"
   ]
  },
  {
   "cell_type": "code",
   "execution_count": 16,
   "id": "ee384265",
   "metadata": {},
   "outputs": [],
   "source": [
    "\n",
    "with open('sis/VISA_expriment.json', 'r') as f:\n",
    "    data_ex = json.load(f)\n",
    "assert len(data_ex)==5055"
   ]
  },
  {
   "cell_type": "code",
   "execution_count": 15,
   "id": "905aff67",
   "metadata": {},
   "outputs": [],
   "source": []
  },
  {
   "cell_type": "code",
   "execution_count": null,
   "id": "cf43640f",
   "metadata": {},
   "outputs": [],
   "source": []
  }
 ],
 "metadata": {
  "kernelspec": {
   "display_name": "Python 3 (ipykernel)",
   "language": "python",
   "name": "python3"
  },
  "language_info": {
   "codemirror_mode": {
    "name": "ipython",
    "version": 3
   },
   "file_extension": ".py",
   "mimetype": "text/x-python",
   "name": "python",
   "nbconvert_exporter": "python",
   "pygments_lexer": "ipython3",
   "version": "3.10.8"
  }
 },
 "nbformat": 4,
 "nbformat_minor": 5
}
